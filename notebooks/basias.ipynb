{
 "cells": [
  {
   "cell_type": "code",
   "execution_count": 1,
   "metadata": {},
   "outputs": [],
   "source": [
    "import pandas as pd"
   ]
  },
  {
   "cell_type": "code",
   "execution_count": 5,
   "metadata": {},
   "outputs": [],
   "source": [
    "essonne = pd.read_csv('../data/basias-essonne.csv')"
   ]
  },
  {
   "cell_type": "code",
   "execution_count": 6,
   "metadata": {},
   "outputs": [
    {
     "name": "stdout",
     "output_type": "stream",
     "text": [
      "<class 'pandas.core.frame.DataFrame'>\n",
      "RangeIndex: 3112 entries, 0 to 3111\n",
      "Data columns (total 9 columns):\n",
      "identifiant       3112 non-null object\n",
      "adresse           2934 non-null object\n",
      "raison_sociale    3091 non-null object\n",
      "nom               2179 non-null object\n",
      "code_postal       3112 non-null int64\n",
      "code_insee        3112 non-null int64\n",
      "nom_commune       3112 non-null object\n",
      "longitude         2946 non-null float64\n",
      "latitude          2946 non-null float64\n",
      "dtypes: float64(2), int64(2), object(5)\n",
      "memory usage: 218.9+ KB\n"
     ]
    }
   ],
   "source": [
    "essonne.info()"
   ]
  },
  {
   "cell_type": "code",
   "execution_count": 7,
   "metadata": {},
   "outputs": [
    {
     "data": {
      "text/plain": [
       "identifiant       3112\n",
       "adresse           2934\n",
       "raison_sociale    3091\n",
       "nom               2179\n",
       "code_postal       3112\n",
       "code_insee        3112\n",
       "nom_commune       3112\n",
       "longitude         2946\n",
       "latitude          2946\n",
       "dtype: int64"
      ]
     },
     "execution_count": 7,
     "metadata": {},
     "output_type": "execute_result"
    }
   ],
   "source": [
    "essonne.count()"
   ]
  },
  {
   "cell_type": "code",
   "execution_count": 8,
   "metadata": {},
   "outputs": [],
   "source": [
    "basias = pd.read_csv('../data/basias.csv')"
   ]
  },
  {
   "cell_type": "code",
   "execution_count": 9,
   "metadata": {},
   "outputs": [
    {
     "name": "stdout",
     "output_type": "stream",
     "text": [
      "<class 'pandas.core.frame.DataFrame'>\n",
      "RangeIndex: 290768 entries, 0 to 290767\n",
      "Data columns (total 9 columns):\n",
      "identifiant       290768 non-null object\n",
      "adresse           176133 non-null object\n",
      "raison_sociale    273837 non-null object\n",
      "nom               186211 non-null object\n",
      "code_postal       36629 non-null float64\n",
      "code_insee        36671 non-null float64\n",
      "nom_commune       36671 non-null object\n",
      "longitude         228273 non-null float64\n",
      "latitude          228273 non-null float64\n",
      "dtypes: float64(4), object(5)\n",
      "memory usage: 20.0+ MB\n"
     ]
    }
   ],
   "source": [
    "basias.info()"
   ]
  },
  {
   "cell_type": "code",
   "execution_count": 10,
   "metadata": {},
   "outputs": [
    {
     "data": {
      "text/plain": [
       "identifiant       290768\n",
       "adresse           176133\n",
       "raison_sociale    273837\n",
       "nom               186211\n",
       "code_postal        36629\n",
       "code_insee         36671\n",
       "nom_commune        36671\n",
       "longitude         228273\n",
       "latitude          228273\n",
       "dtype: int64"
      ]
     },
     "execution_count": 10,
     "metadata": {},
     "output_type": "execute_result"
    }
   ],
   "source": [
    "basias.count()"
   ]
  },
  {
   "cell_type": "code",
   "execution_count": null,
   "metadata": {},
   "outputs": [],
   "source": []
  }
 ],
 "metadata": {
  "kernelspec": {
   "display_name": "Python 3",
   "language": "python",
   "name": "python3"
  },
  "language_info": {
   "codemirror_mode": {
    "name": "ipython",
    "version": 3
   },
   "file_extension": ".py",
   "mimetype": "text/x-python",
   "name": "python",
   "nbconvert_exporter": "python",
   "pygments_lexer": "ipython3",
   "version": "3.6.4"
  }
 },
 "nbformat": 4,
 "nbformat_minor": 2
}
